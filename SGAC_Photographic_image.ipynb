{
  "cells": [
    {
      "cell_type": "markdown",
      "metadata": {
        "id": "view-in-github",
        "colab_type": "text"
      },
      "source": [
        "<a href=\"https://colab.research.google.com/github/georgesteve/Photomosaic-sgac/blob/main/SGAC_Photographic_image.ipynb\" target=\"_parent\"><img src=\"https://colab.research.google.com/assets/colab-badge.svg\" alt=\"Open In Colab\"/></a>"
      ]
    },
    {
      "cell_type": "code",
      "execution_count": null,
      "metadata": {
        "id": "yN2itibf3XPZ"
      },
      "outputs": [],
      "source": [
        "import glob\n",
        "from PIL import Image\n",
        "from scipy import spatial\n",
        "import numpy as np"
      ]
    },
    {
      "cell_type": "markdown",
      "metadata": {
        "id": "mj3KsV_jqGhC"
      },
      "source": [
        "#Photographic Mosaic"
      ]
    },
    {
      "cell_type": "code",
      "execution_count": null,
      "metadata": {
        "id": "4XW5s83Qcgae"
      },
      "outputs": [],
      "source": [
        "Image.MAX_IMAGE_PIXELS = None"
      ]
    },
    {
      "cell_type": "code",
      "execution_count": null,
      "metadata": {
        "colab": {
          "base_uri": "https://localhost:8080/"
        },
        "id": "6YsTuJJr3vGG",
        "outputId": "6b1029c9-2622-4780-9f1d-061e20321ce2"
      },
      "outputs": [
        {
          "output_type": "stream",
          "name": "stdout",
          "text": [
            "/content/drive\n",
            "Mounted at /content/drive\n"
          ]
        }
      ],
      "source": [
        "# Mount Google Drive\n",
        "from google.colab import drive # import drive from google colab\n",
        "\n",
        "ROOT = \"/content/drive\"     # default location for the drive\n",
        "print(ROOT)                 # print content of ROOT (Optional)\n",
        "\n",
        "drive.mount(ROOT)           # we mount the google drive at /content/drive"
      ]
    },
    {
      "cell_type": "code",
      "execution_count": null,
      "metadata": {
        "colab": {
          "base_uri": "https://localhost:8080/"
        },
        "id": "Kf8EwfNv7W-U",
        "outputId": "c9b4a78c-b3f8-43b6-b7ad-8eb90c629fc4"
      },
      "outputs": [
        {
          "output_type": "stream",
          "name": "stdout",
          "text": [
            "\u001b[0m\u001b[01;34mdrive\u001b[0m/  \u001b[01;34msample_data\u001b[0m/\n"
          ]
        }
      ],
      "source": [
        "ls"
      ]
    },
    {
      "cell_type": "code",
      "execution_count": null,
      "metadata": {
        "colab": {
          "base_uri": "https://localhost:8080/"
        },
        "id": "_d4xNyQg_Ggs",
        "outputId": "9166cf99-5125-49b2-803e-be5dd35dc9d6"
      },
      "outputs": [
        {
          "output_type": "stream",
          "name": "stdout",
          "text": [
            "/content/drive/MyDrive\n"
          ]
        }
      ],
      "source": [
        "cd drive/MyDrive"
      ]
    },
    {
      "cell_type": "code",
      "source": [
        ""
      ],
      "metadata": {
        "id": "6Zz3wqMmJyBE"
      },
      "execution_count": null,
      "outputs": []
    },
    {
      "cell_type": "code",
      "execution_count": null,
      "metadata": {
        "id": "a4uWIJfQ3rwF"
      },
      "outputs": [],
      "source": [
        "# Sources and settings\n",
        "#main_photo_path = \"IGP-y-volcán-Misti.png\"\n",
        "#main_photo_path = \"noche-estrellada-index.jpeg\"\n",
        "#main_photo_path = \"Van_Gogh_-_Starry_Night_-_Google_Art_Project.jpeg\"\n",
        "#main_photo_path = \"86376680_130511965138315_457165819453898752_n.jpg\"\n",
        "#main_photo_path = \"69563.jpg\"\n",
        "#main_photo_path = \"1_MKE4QgF0BdA6fPM_mx6bpg.jpeg\"\n",
        "main_photo_path = \"2728px-Van_Gogh_-_Starry_Night_-_Google_Art_Project.jpg\"\n",
        "\n",
        "\n",
        "#tile_photos_path = \"Ale-pixel/thumbnails/*\"\n",
        "\n",
        "#tile_photos_path = \"Fotos Ale/WhatsApp Unknown 2022-07-17 at 2.54.19 PM/*\"\n",
        "tile_photos_path = 'El espacio es de todos, todos somos el espacio.  (File responses)/Comparte tu foto aquí por favor. Share your photo here please. (File responses)/*'\n",
        "tile_size = (15,15)"
      ]
    },
    {
      "cell_type": "code",
      "execution_count": null,
      "metadata": {
        "id": "4LAZ-D_B3nY4"
      },
      "outputs": [],
      "source": [
        "# Get all tiles\n",
        "tile_paths = []\n",
        "for file in glob.glob(tile_photos_path):\n",
        "    tile_paths.append(file)"
      ]
    },
    {
      "cell_type": "code",
      "execution_count": null,
      "metadata": {
        "colab": {
          "base_uri": "https://localhost:8080/"
        },
        "id": "-WnzTDseIIq9",
        "outputId": "64feb304-c690-47c0-cc46-5f5ef857e394"
      },
      "outputs": [
        {
          "output_type": "stream",
          "name": "stdout",
          "text": [
            "['El espacio es de todos, todos somos el espacio.  (File responses)/Comparte tu foto aquí por favor. Share your photo here please. (File responses)/WhatsApp Image 2022-08-06 at 9.47.21 PM.jpeg', 'El espacio es de todos, todos somos el espacio.  (File responses)/Comparte tu foto aquí por favor. Share your photo here please. (File responses)/WhatsApp Image 2022-08-06 at 9.47.08 PM (1).jpeg', 'El espacio es de todos, todos somos el espacio.  (File responses)/Comparte tu foto aquí por favor. Share your photo here please. (File responses)/WhatsApp Image 2022-08-06 at 9.47.08 PM.jpeg', 'El espacio es de todos, todos somos el espacio.  (File responses)/Comparte tu foto aquí por favor. Share your photo here please. (File responses)/WhatsApp Image 2022-08-06 at 9.46.42 PM.jpeg', 'El espacio es de todos, todos somos el espacio.  (File responses)/Comparte tu foto aquí por favor. Share your photo here please. (File responses)/WhatsApp Image 2022-08-06 at 9.47.42 PM.jpeg', 'El espacio es de todos, todos somos el espacio.  (File responses)/Comparte tu foto aquí por favor. Share your photo here please. (File responses)/WhatsApp Image 2022-08-07 at 1.45.02 AM.jpeg', 'El espacio es de todos, todos somos el espacio.  (File responses)/Comparte tu foto aquí por favor. Share your photo here please. (File responses)/WhatsApp Image 2022-08-07 at 1.55.05 AM.jpeg', 'El espacio es de todos, todos somos el espacio.  (File responses)/Comparte tu foto aquí por favor. Share your photo here please. (File responses)/WhatsApp Image 2022-08-07 at 1.47.12 AM.jpeg', 'El espacio es de todos, todos somos el espacio.  (File responses)/Comparte tu foto aquí por favor. Share your photo here please. (File responses)/WhatsApp Image 2022-08-07 at 1.45.49 AM.jpeg', 'El espacio es de todos, todos somos el espacio.  (File responses)/Comparte tu foto aquí por favor. Share your photo here please. (File responses)/WhatsApp Image 2022-08-07 at 1.35.46 AM.jpeg', 'El espacio es de todos, todos somos el espacio.  (File responses)/Comparte tu foto aquí por favor. Share your photo here please. (File responses)/WhatsApp Image 2022-08-07 at 1.08.31 AM.jpeg', 'El espacio es de todos, todos somos el espacio.  (File responses)/Comparte tu foto aquí por favor. Share your photo here please. (File responses)/WhatsApp Image 2022-08-07 at 1.13.30 AM.jpeg', 'El espacio es de todos, todos somos el espacio.  (File responses)/Comparte tu foto aquí por favor. Share your photo here please. (File responses)/WhatsApp Image 2022-08-07 at 1.28.04 AM.jpeg', 'El espacio es de todos, todos somos el espacio.  (File responses)/Comparte tu foto aquí por favor. Share your photo here please. (File responses)/WhatsApp Image 2022-08-07 at 1.31.49 AM.jpeg', 'El espacio es de todos, todos somos el espacio.  (File responses)/Comparte tu foto aquí por favor. Share your photo here please. (File responses)/WhatsApp Image 2022-08-07 at 1.30.54 AM.jpeg', 'El espacio es de todos, todos somos el espacio.  (File responses)/Comparte tu foto aquí por favor. Share your photo here please. (File responses)/WhatsApp Image 2022-08-07 at 1.41.07 AM.jpeg', 'El espacio es de todos, todos somos el espacio.  (File responses)/Comparte tu foto aquí por favor. Share your photo here please. (File responses)/WhatsApp Image 2022-08-07 at 1.37.54 AM.jpeg', 'El espacio es de todos, todos somos el espacio.  (File responses)/Comparte tu foto aquí por favor. Share your photo here please. (File responses)/WhatsApp Image 2022-08-07 at 1.30.53 AM.jpeg', 'El espacio es de todos, todos somos el espacio.  (File responses)/Comparte tu foto aquí por favor. Share your photo here please. (File responses)/WhatsApp Image 2022-08-07 at 1.42.02 AM.jpeg', 'El espacio es de todos, todos somos el espacio.  (File responses)/Comparte tu foto aquí por favor. Share your photo here please. (File responses)/WhatsApp Image 2022-08-07 at 1.10.38 AM.jpeg', 'El espacio es de todos, todos somos el espacio.  (File responses)/Comparte tu foto aquí por favor. Share your photo here please. (File responses)/WhatsApp Image 2022-08-07 at 1.38.55 AM.jpeg', 'El espacio es de todos, todos somos el espacio.  (File responses)/Comparte tu foto aquí por favor. Share your photo here please. (File responses)/WhatsApp Image 2022-08-07 at 1.32.01 AM.jpeg', 'El espacio es de todos, todos somos el espacio.  (File responses)/Comparte tu foto aquí por favor. Share your photo here please. (File responses)/WhatsApp Image 2022-08-07 at 1.13.17 AM.jpeg', 'El espacio es de todos, todos somos el espacio.  (File responses)/Comparte tu foto aquí por favor. Share your photo here please. (File responses)/WhatsApp Image 2022-08-07 at 12.58.15 AM.jpeg', 'El espacio es de todos, todos somos el espacio.  (File responses)/Comparte tu foto aquí por favor. Share your photo here please. (File responses)/WhatsApp Image 2022-08-07 at 1.47.11 AM (1).jpeg', 'El espacio es de todos, todos somos el espacio.  (File responses)/Comparte tu foto aquí por favor. Share your photo here please. (File responses)/WhatsApp Image 2022-08-07 at 1.47.11 AM.jpeg', 'El espacio es de todos, todos somos el espacio.  (File responses)/Comparte tu foto aquí por favor. Share your photo here please. (File responses)/WhatsApp Image 2022-08-07 at 1.30.54 AM (1).jpeg', 'El espacio es de todos, todos somos el espacio.  (File responses)/Comparte tu foto aquí por favor. Share your photo here please. (File responses)/WhatsApp Image 2022-08-07 at 1.30.54 AM (2).jpeg', 'El espacio es de todos, todos somos el espacio.  (File responses)/Comparte tu foto aquí por favor. Share your photo here please. (File responses)/WhatsApp Image 2022-08-07 at 12.59.45 AM.jpeg', 'El espacio es de todos, todos somos el espacio.  (File responses)/Comparte tu foto aquí por favor. Share your photo here please. (File responses)/WhatsApp Image 2022-08-07 at 12.58.15 AM (3).jpeg', 'El espacio es de todos, todos somos el espacio.  (File responses)/Comparte tu foto aquí por favor. Share your photo here please. (File responses)/WhatsApp Image 2022-08-07 at 12.58.15 AM (2).jpeg', 'El espacio es de todos, todos somos el espacio.  (File responses)/Comparte tu foto aquí por favor. Share your photo here please. (File responses)/WhatsApp Image 2022-08-07 at 12.58.15 AM (1).jpeg', 'El espacio es de todos, todos somos el espacio.  (File responses)/Comparte tu foto aquí por favor. Share your photo here please. (File responses)/WhatsApp Image 2022-08-07 at 1.07.29 AM.jpeg', 'El espacio es de todos, todos somos el espacio.  (File responses)/Comparte tu foto aquí por favor. Share your photo here please. (File responses)/WhatsApp Image 2022-08-07 at 1.07.43 AM.jpeg', 'El espacio es de todos, todos somos el espacio.  (File responses)/Comparte tu foto aquí por favor. Share your photo here please. (File responses)/297284394_5596111913785465_6730617036902054870_n.jpg', 'El espacio es de todos, todos somos el espacio.  (File responses)/Comparte tu foto aquí por favor. Share your photo here please. (File responses)/290389038_1989270221258746_2327945209239579502_n - George Steve Fajardo Soria.jpg', 'El espacio es de todos, todos somos el espacio.  (File responses)/Comparte tu foto aquí por favor. Share your photo here please. (File responses)/285424186_10209299443039804_1833391656881092603_n - George Steve Fajardo Soria.jpg', 'El espacio es de todos, todos somos el espacio.  (File responses)/Comparte tu foto aquí por favor. Share your photo here please. (File responses)/WhatsApp Image 2022-08-07 at 2.55.35 PM.jpeg', 'El espacio es de todos, todos somos el espacio.  (File responses)/Comparte tu foto aquí por favor. Share your photo here please. (File responses)/WhatsApp Image 2022-08-07 at 2.54.33 PM.jpeg', 'El espacio es de todos, todos somos el espacio.  (File responses)/Comparte tu foto aquí por favor. Share your photo here please. (File responses)/WhatsApp Image 2022-08-07 at 2.56.24 PM.jpeg', 'El espacio es de todos, todos somos el espacio.  (File responses)/Comparte tu foto aquí por favor. Share your photo here please. (File responses)/WhatsApp Image 2022-08-05 at 8.44.23 PM.jpeg', 'El espacio es de todos, todos somos el espacio.  (File responses)/Comparte tu foto aquí por favor. Share your photo here please. (File responses)/WhatsApp Image 2022-07-16 at 12.32.08 PM (4).jpeg', 'El espacio es de todos, todos somos el espacio.  (File responses)/Comparte tu foto aquí por favor. Share your photo here please. (File responses)/BFCFTBPMAJJRPAM74QYVT6ZGCQ.jpg', 'El espacio es de todos, todos somos el espacio.  (File responses)/Comparte tu foto aquí por favor. Share your photo here please. (File responses)/IMG_20180205_191837 - LEONARD JOSEPH REBAZA LOPEZ.jpg', 'El espacio es de todos, todos somos el espacio.  (File responses)/Comparte tu foto aquí por favor. Share your photo here please. (File responses)/llanganucolodge-e1552011908289.jpg', 'El espacio es de todos, todos somos el espacio.  (File responses)/Comparte tu foto aquí por favor. Share your photo here please. (File responses)/received_1019383412083024 - Diana Malaga.jpeg', 'El espacio es de todos, todos somos el espacio.  (File responses)/Comparte tu foto aquí por favor. Share your photo here please. (File responses)/DSC05794-3-PS - Carlos Tong.png', 'El espacio es de todos, todos somos el espacio.  (File responses)/Comparte tu foto aquí por favor. Share your photo here please. (File responses)/DSC05823-2 - Carlos Tong.png', 'El espacio es de todos, todos somos el espacio.  (File responses)/Comparte tu foto aquí por favor. Share your photo here please. (File responses)/startrail-4 - Carlos Tong.png', 'El espacio es de todos, todos somos el espacio.  (File responses)/Comparte tu foto aquí por favor. Share your photo here please. (File responses)/DSC04559-PS - Carlos Tong.png', 'El espacio es de todos, todos somos el espacio.  (File responses)/Comparte tu foto aquí por favor. Share your photo here please. (File responses)/DSC04483-3 - Carlos Tong.png', 'El espacio es de todos, todos somos el espacio.  (File responses)/Comparte tu foto aquí por favor. Share your photo here please. (File responses)/received_3190309401287754 - Keylla Paredes Robles.jpeg', 'El espacio es de todos, todos somos el espacio.  (File responses)/Comparte tu foto aquí por favor. Share your photo here please. (File responses)/Scorpio - Miguel Angel Ochoa Bolaños.jpg']\n"
          ]
        }
      ],
      "source": [
        "print(tile_paths)"
      ]
    },
    {
      "cell_type": "code",
      "execution_count": null,
      "metadata": {
        "id": "NV49KZLq3kyk"
      },
      "outputs": [],
      "source": [
        "# Import and resize all tiles\n",
        "tiles = []\n",
        "for path in tile_paths:\n",
        "    tile = Image.open(path)\n",
        "    tile = tile.resize(tile_size)\n",
        "    tiles.append(tile)"
      ]
    },
    {
      "cell_type": "code",
      "execution_count": null,
      "metadata": {
        "id": "YcPo1vW6CSWF"
      },
      "outputs": [],
      "source": [
        "# Calculate dominant color\n",
        "colors = []\n",
        "for tile in tiles:\n",
        "    mean_color = np.array(tile).mean(axis=0).mean(axis=0)\n",
        "    \n",
        "    if np.shape(mean_color)==(3,):\n",
        "        colors.append(mean_color)\n",
        "#print(colors)\n",
        "        #print(np.shape(mean_color))"
      ]
    },
    {
      "cell_type": "markdown",
      "metadata": {
        "id": "JzK_jM7-CXIR"
      },
      "source": [
        ""
      ]
    },
    {
      "cell_type": "code",
      "execution_count": null,
      "metadata": {
        "id": "vJmrXgDdJT4D"
      },
      "outputs": [],
      "source": [
        "# Pixelate (resize) main photo\n",
        "main_photo = Image.open(main_photo_path)\n",
        "width = int(np.round(main_photo.size[0] / tile_size[0]))\n",
        "height = int(np.round(main_photo.size[1] / tile_size[1]))\n",
        "\n",
        "resized_photo = main_photo.resize((width, height))"
      ]
    },
    {
      "cell_type": "code",
      "execution_count": null,
      "metadata": {
        "id": "0BHKr-aCUL7a"
      },
      "outputs": [],
      "source": [
        "#colors = np.asarray(colors,dtype='object')\n",
        "\n",
        "# Find closest tile photo for every pixel\n",
        "\n",
        "# Create a KDTree\n",
        "tree = spatial.KDTree(colors)\n",
        "\n",
        "# Empty integer array to store indices of tiles\n",
        "closest_tiles = np.zeros((width, height), dtype=np.uint32)\n",
        "\n",
        "for i in range(width):\n",
        "  for j in range(height):\n",
        "    pixel=resized_photo.getpixel((i, j))\n",
        "    \n",
        "    closest=tree.query(pixel)   \n",
        "    #print(pixel,colors[closest[1]])\n",
        "    closest_tiles[i, j] = closest[1]"
      ]
    },
    {
      "cell_type": "code",
      "execution_count": null,
      "metadata": {
        "id": "P7lQIaloObyr"
      },
      "outputs": [],
      "source": [
        ""
      ]
    },
    {
      "cell_type": "code",
      "execution_count": null,
      "metadata": {
        "id": "zYm1Q2XsOs2A"
      },
      "outputs": [],
      "source": [
        "# Create an output image\n",
        "output = Image.new('RGB', (main_photo.size[0],main_photo.size[1]))\n",
        "\n",
        "# Draw tiles\n",
        "for i in range(width):\n",
        "    for j in range(height):\n",
        "        # Offset of tile\n",
        "        x, y = i*tile_size[0], j*tile_size[1]\n",
        "        # Index of tile\n",
        "        index = closest_tiles[i, j]\n",
        "        # Draw tile\n",
        "        output.paste(tiles[index], (x, y))\n",
        "\n",
        "# Save output\n",
        "output.save(\"SGC-art-output.pdf\")"
      ]
    },
    {
      "cell_type": "code",
      "execution_count": null,
      "metadata": {
        "id": "4kJjcQSIUw3U"
      },
      "outputs": [],
      "source": [
        ""
      ]
    }
  ],
  "metadata": {
    "colab": {
      "name": "SGAC Photographic image",
      "provenance": [],
      "authorship_tag": "ABX9TyNuUTpq14BOvkA6P4WrdXuV",
      "include_colab_link": true
    },
    "kernelspec": {
      "display_name": "Python 3",
      "name": "python3"
    },
    "language_info": {
      "name": "python"
    }
  },
  "nbformat": 4,
  "nbformat_minor": 0
}